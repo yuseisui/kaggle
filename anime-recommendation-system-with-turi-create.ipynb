{
 "cells": [
  {
   "cell_type": "code",
   "execution_count": 1,
   "id": "0de4a957",
   "metadata": {
    "execution": {
     "iopub.execute_input": "2022-03-30T17:19:41.590060Z",
     "iopub.status.busy": "2022-03-30T17:19:41.588876Z",
     "iopub.status.idle": "2022-03-30T17:21:12.472319Z",
     "shell.execute_reply": "2022-03-30T17:21:12.471569Z",
     "shell.execute_reply.started": "2022-03-30T16:56:20.944052Z"
    },
    "papermill": {
     "duration": 90.894622,
     "end_time": "2022-03-30T17:21:12.472530",
     "exception": false,
     "start_time": "2022-03-30T17:19:41.577908",
     "status": "completed"
    },
    "tags": []
   },
   "outputs": [
    {
     "name": "stdout",
     "output_type": "stream",
     "text": [
      "Collecting turicreate\r\n",
      "  Downloading turicreate-6.4.1-cp37-cp37m-manylinux1_x86_64.whl (92.0 MB)\r\n",
      "     |████████████████████████████████| 92.0 MB 13 kB/s              \r\n",
      "\u001b[?25hCollecting pillow>=5.2.0\r\n",
      "  Downloading Pillow-9.0.1-cp37-cp37m-manylinux_2_17_x86_64.manylinux2014_x86_64.whl (4.3 MB)\r\n",
      "     |████████████████████████████████| 4.3 MB 60.0 MB/s            \r\n",
      "\u001b[?25hCollecting resampy==0.2.1\r\n",
      "  Downloading resampy-0.2.1.tar.gz (322 kB)\r\n",
      "     |████████████████████████████████| 322 kB 61.8 MB/s            \r\n",
      "\u001b[?25h  Preparing metadata (setup.py) ... \u001b[?25l-\b \bdone\r\n",
      "\u001b[?25hCollecting decorator>=4.0.9\r\n",
      "  Downloading decorator-5.1.1-py3-none-any.whl (9.1 kB)\r\n",
      "Collecting scipy>=1.1.0\r\n",
      "  Downloading scipy-1.7.3-cp37-cp37m-manylinux_2_12_x86_64.manylinux2010_x86_64.whl (38.1 MB)\r\n",
      "     |████████████████████████████████| 38.1 MB 823 kB/s             \r\n",
      "\u001b[?25hCollecting numpy\r\n",
      "  Downloading numpy-1.21.5-cp37-cp37m-manylinux_2_12_x86_64.manylinux2010_x86_64.whl (15.7 MB)\r\n",
      "     |████████████████████████████████| 15.7 MB 56.0 MB/s            \r\n",
      "\u001b[?25hCollecting prettytable==0.7.2\r\n",
      "  Downloading prettytable-0.7.2.zip (28 kB)\r\n",
      "  Preparing metadata (setup.py) ... \u001b[?25l-\b \bdone\r\n",
      "\u001b[?25hCollecting tensorflow<2.1.0,>=2.0.0\r\n",
      "  Downloading tensorflow-2.0.4-cp37-cp37m-manylinux2010_x86_64.whl (86.4 MB)\r\n",
      "     |████████████████████████████████| 86.4 MB 73 kB/s              \r\n",
      "\u001b[?25hCollecting pandas>=0.23.2\r\n",
      "  Downloading pandas-1.3.5-cp37-cp37m-manylinux_2_17_x86_64.manylinux2014_x86_64.whl (11.3 MB)\r\n",
      "     |████████████████████████████████| 11.3 MB 64.3 MB/s            \r\n",
      "\u001b[?25hCollecting requests>=2.9.1\r\n",
      "  Downloading requests-2.27.1-py2.py3-none-any.whl (63 kB)\r\n",
      "     |████████████████████████████████| 63 kB 1.3 MB/s             \r\n",
      "\u001b[?25hCollecting six>=1.10.0\r\n",
      "  Downloading six-1.16.0-py2.py3-none-any.whl (11 kB)\r\n",
      "Collecting numba<0.51.0\r\n",
      "  Downloading numba-0.50.1-cp37-cp37m-manylinux2014_x86_64.whl (3.6 MB)\r\n",
      "     |████████████████████████████████| 3.6 MB 59.1 MB/s            \r\n",
      "\u001b[?25hCollecting coremltools==3.3\r\n",
      "  Downloading coremltools-3.3-cp37-none-manylinux1_x86_64.whl (3.5 MB)\r\n",
      "     |████████████████████████████████| 3.5 MB 57.4 MB/s            \r\n",
      "\u001b[?25hCollecting protobuf>=3.1.0\r\n",
      "  Downloading protobuf-3.19.4-cp37-cp37m-manylinux_2_17_x86_64.manylinux2014_x86_64.whl (1.1 MB)\r\n",
      "     |████████████████████████████████| 1.1 MB 43.8 MB/s            \r\n",
      "\u001b[?25hCollecting llvmlite<0.34,>=0.33.0.dev0\r\n",
      "  Downloading llvmlite-0.33.0-cp37-cp37m-manylinux1_x86_64.whl (18.3 MB)\r\n",
      "     |████████████████████████████████| 18.3 MB 383 kB/s             \r\n",
      "\u001b[?25hCollecting setuptools\r\n",
      "  Downloading setuptools-61.2.0-py3-none-any.whl (1.1 MB)\r\n",
      "     |████████████████████████████████| 1.1 MB 57.7 MB/s            \r\n",
      "\u001b[?25hCollecting python-dateutil>=2.7.3\r\n",
      "  Downloading python_dateutil-2.8.2-py2.py3-none-any.whl (247 kB)\r\n",
      "     |████████████████████████████████| 247 kB 59.4 MB/s            \r\n",
      "\u001b[?25hCollecting pytz>=2017.3\r\n",
      "  Downloading pytz-2022.1-py2.py3-none-any.whl (503 kB)\r\n",
      "     |████████████████████████████████| 503 kB 59.7 MB/s            \r\n",
      "\u001b[?25hCollecting charset-normalizer~=2.0.0\r\n",
      "  Downloading charset_normalizer-2.0.12-py3-none-any.whl (39 kB)\r\n",
      "Collecting idna<4,>=2.5\r\n",
      "  Downloading idna-3.3-py3-none-any.whl (61 kB)\r\n",
      "     |████████████████████████████████| 61 kB 4.6 MB/s             \r\n",
      "\u001b[?25hCollecting certifi>=2017.4.17\r\n",
      "  Downloading certifi-2021.10.8-py2.py3-none-any.whl (149 kB)\r\n",
      "     |████████████████████████████████| 149 kB 63.0 MB/s            \r\n",
      "\u001b[?25hCollecting urllib3<1.27,>=1.21.1\r\n",
      "  Downloading urllib3-1.26.9-py2.py3-none-any.whl (138 kB)\r\n",
      "     |████████████████████████████████| 138 kB 54.1 MB/s            \r\n",
      "\u001b[?25hCollecting keras-applications>=1.0.8\r\n",
      "  Downloading Keras_Applications-1.0.8-py3-none-any.whl (50 kB)\r\n",
      "     |████████████████████████████████| 50 kB 4.7 MB/s             \r\n",
      "\u001b[?25hCollecting opt-einsum>=2.3.2\r\n",
      "  Downloading opt_einsum-3.3.0-py3-none-any.whl (65 kB)\r\n",
      "     |████████████████████████████████| 65 kB 3.0 MB/s             \r\n",
      "\u001b[?25hCollecting tensorboard<2.1.0,>=2.0.0\r\n",
      "  Downloading tensorboard-2.0.2-py3-none-any.whl (3.8 MB)\r\n",
      "     |████████████████████████████████| 3.8 MB 32.0 MB/s            \r\n",
      "\u001b[?25hCollecting wrapt>=1.11.1\r\n",
      "  Downloading wrapt-1.14.0-cp37-cp37m-manylinux_2_5_x86_64.manylinux1_x86_64.manylinux_2_17_x86_64.manylinux2014_x86_64.whl (75 kB)\r\n",
      "     |████████████████████████████████| 75 kB 2.7 MB/s             \r\n",
      "\u001b[?25hCollecting astor>=0.6.0\r\n",
      "  Downloading astor-0.8.1-py2.py3-none-any.whl (27 kB)\r\n",
      "Collecting keras-preprocessing>=1.0.5\r\n",
      "  Downloading Keras_Preprocessing-1.1.2-py2.py3-none-any.whl (42 kB)\r\n",
      "     |████████████████████████████████| 42 kB 969 kB/s             \r\n",
      "\u001b[?25hCollecting numpy\r\n",
      "  Downloading numpy-1.18.5-cp37-cp37m-manylinux1_x86_64.whl (20.1 MB)\r\n",
      "     |████████████████████████████████| 20.1 MB 839 kB/s             \r\n",
      "\u001b[?25hCollecting tensorflow-estimator<2.1.0,>=2.0.0\r\n",
      "  Downloading tensorflow_estimator-2.0.1-py2.py3-none-any.whl (449 kB)\r\n",
      "     |████████████████████████████████| 449 kB 62.6 MB/s            \r\n",
      "\u001b[?25hCollecting google-pasta>=0.1.6\r\n",
      "  Downloading google_pasta-0.2.0-py3-none-any.whl (57 kB)\r\n",
      "     |████████████████████████████████| 57 kB 3.8 MB/s             \r\n",
      "\u001b[?25hCollecting grpcio>=1.8.6\r\n",
      "  Downloading grpcio-1.44.0-cp37-cp37m-manylinux_2_17_x86_64.manylinux2014_x86_64.whl (4.3 MB)\r\n",
      "     |████████████████████████████████| 4.3 MB 53.3 MB/s            \r\n",
      "\u001b[?25hCollecting wheel>=0.26\r\n",
      "  Downloading wheel-0.37.1-py2.py3-none-any.whl (35 kB)\r\n",
      "Collecting termcolor>=1.1.0\r\n",
      "  Downloading termcolor-1.1.0.tar.gz (3.9 kB)\r\n",
      "  Preparing metadata (setup.py) ... \u001b[?25l-\b \bdone\r\n",
      "\u001b[?25hCollecting h5py<=2.10.0\r\n",
      "  Downloading h5py-2.10.0-cp37-cp37m-manylinux1_x86_64.whl (2.9 MB)\r\n",
      "     |████████████████████████████████| 2.9 MB 57.5 MB/s            \r\n",
      "\u001b[?25hCollecting absl-py>=0.7.0\r\n",
      "  Downloading absl_py-1.0.0-py3-none-any.whl (126 kB)\r\n",
      "     |████████████████████████████████| 126 kB 62.9 MB/s            \r\n",
      "\u001b[?25hCollecting gast==0.2.2\r\n",
      "  Downloading gast-0.2.2.tar.gz (10 kB)\r\n",
      "  Preparing metadata (setup.py) ... \u001b[?25l-\b \bdone\r\n",
      "\u001b[?25hCollecting google-auth-oauthlib<0.5,>=0.4.1\r\n",
      "  Downloading google_auth_oauthlib-0.4.6-py2.py3-none-any.whl (18 kB)\r\n",
      "Collecting markdown>=2.6.8\r\n",
      "  Downloading Markdown-3.3.6-py3-none-any.whl (97 kB)\r\n",
      "     |████████████████████████████████| 97 kB 5.3 MB/s             \r\n",
      "\u001b[?25hCollecting werkzeug>=0.11.15\r\n",
      "  Downloading Werkzeug-2.1.0-py3-none-any.whl (224 kB)\r\n",
      "     |████████████████████████████████| 224 kB 66.2 MB/s            \r\n",
      "\u001b[?25hCollecting google-auth<2,>=1.6.3\r\n",
      "  Downloading google_auth-1.35.0-py2.py3-none-any.whl (152 kB)\r\n",
      "     |████████████████████████████████| 152 kB 33.2 MB/s            \r\n",
      "\u001b[?25hCollecting pyasn1-modules>=0.2.1\r\n",
      "  Downloading pyasn1_modules-0.2.8-py2.py3-none-any.whl (155 kB)\r\n",
      "     |████████████████████████████████| 155 kB 50.7 MB/s            \r\n",
      "\u001b[?25hCollecting cachetools<5.0,>=2.0.0\r\n",
      "  Downloading cachetools-4.2.4-py3-none-any.whl (10 kB)\r\n",
      "Collecting rsa<5,>=3.1.4\r\n",
      "  Downloading rsa-4.8-py3-none-any.whl (39 kB)\r\n",
      "Collecting requests-oauthlib>=0.7.0\r\n",
      "  Downloading requests_oauthlib-1.3.1-py2.py3-none-any.whl (23 kB)\r\n",
      "Collecting importlib-metadata>=4.4\r\n",
      "  Downloading importlib_metadata-4.11.3-py3-none-any.whl (18 kB)\r\n",
      "Collecting typing-extensions>=3.6.4\r\n",
      "  Downloading typing_extensions-4.1.1-py3-none-any.whl (26 kB)\r\n",
      "Collecting zipp>=0.5\r\n",
      "  Downloading zipp-3.7.0-py3-none-any.whl (5.3 kB)\r\n",
      "Collecting pyasn1<0.5.0,>=0.4.6\r\n",
      "  Downloading pyasn1-0.4.8-py2.py3-none-any.whl (77 kB)\r\n",
      "     |████████████████████████████████| 77 kB 4.0 MB/s             \r\n",
      "\u001b[?25hCollecting oauthlib>=3.0.0\r\n",
      "  Downloading oauthlib-3.2.0-py3-none-any.whl (151 kB)\r\n",
      "     |████████████████████████████████| 151 kB 55.6 MB/s            \r\n",
      "\u001b[?25hBuilding wheels for collected packages: prettytable, resampy, gast, termcolor\r\n",
      "  Building wheel for prettytable (setup.py) ... \u001b[?25l-\b \b\\\b \bdone\r\n",
      "\u001b[?25h  Created wheel for prettytable: filename=prettytable-0.7.2-py3-none-any.whl size=13714 sha256=783c37e9e8f605eb0e6d0a0d12911e8fb5893d5ef47ff7abf64bd26088b633a1\r\n",
      "  Stored in directory: /root/.cache/pip/wheels/b2/7f/f6/f180315b584f00445045ff1699b550fa895d09471337ce21c6\r\n",
      "  Building wheel for resampy (setup.py) ... \u001b[?25l-\b \b\\\b \bdone\r\n",
      "\u001b[?25h  Created wheel for resampy: filename=resampy-0.2.1-py3-none-any.whl size=320860 sha256=54f1a224fb6206395c3a315a1b53c9785252549a284dc871dd9f60104ef13044\r\n",
      "  Stored in directory: /root/.cache/pip/wheels/71/74/53/d5ceb7c5ee7a168c7d106041863e71ac3273f4a4677743a284\r\n",
      "  Building wheel for gast (setup.py) ... \u001b[?25l-\b \bdone\r\n",
      "\u001b[?25h  Created wheel for gast: filename=gast-0.2.2-py3-none-any.whl size=7554 sha256=43521ae593f3a70193c52c847c6e412ffa1ce7e5a99d4d813d92b10342a868db\r\n",
      "  Stored in directory: /root/.cache/pip/wheels/21/7f/02/420f32a803f7d0967b48dd823da3f558c5166991bfd204eef3\r\n",
      "  Building wheel for termcolor (setup.py) ... \u001b[?25l-\b \bdone\r\n",
      "\u001b[?25h  Created wheel for termcolor: filename=termcolor-1.1.0-py3-none-any.whl size=4847 sha256=857540e30cc2621a3064a9373fef9addda28b34e1f8752b73b3075324755ff89\r\n",
      "  Stored in directory: /root/.cache/pip/wheels/3f/e3/ec/8a8336ff196023622fbcb36de0c5a5c218cbb24111d1d4c7f2\r\n",
      "Successfully built prettytable resampy gast termcolor\r\n",
      "Installing collected packages: urllib3, pyasn1, idna, charset-normalizer, certifi, zipp, typing-extensions, six, setuptools, rsa, requests, pyasn1-modules, oauthlib, cachetools, requests-oauthlib, numpy, importlib-metadata, google-auth, wheel, werkzeug, protobuf, markdown, llvmlite, h5py, grpcio, google-auth-oauthlib, absl-py, wrapt, termcolor, tensorflow-estimator, tensorboard, scipy, pytz, python-dateutil, opt-einsum, numba, keras-preprocessing, keras-applications, google-pasta, gast, astor, tensorflow, resampy, prettytable, pillow, pandas, decorator, coremltools, turicreate\r\n",
      "\u001b[31mERROR: pip's dependency resolver does not currently take into account all the packages that are installed. This behaviour is the source of the following dependency conflicts.\r\n",
      "tensorflow-io 0.21.0 requires tensorflow-io-gcs-filesystem==0.21.0, which is not installed.\r\n",
      "explainable-ai-sdk 1.3.2 requires xai-image-widget, which is not installed.\r\n",
      "beatrix-jupyterlab 3.1.6 requires google-cloud-bigquery-storage, which is not installed.\r\n",
      "thinc 8.0.13 requires typing-extensions<4.0.0.0,>=3.7.4.1; python_version < \"3.8\", but you have typing-extensions 4.1.1 which is incompatible.\r\n",
      "tfx-bsl 1.5.0 requires absl-py<0.13,>=0.9, but you have absl-py 1.0.0 which is incompatible.\r\n",
      "tfx-bsl 1.5.0 requires pyarrow<6,>=1, but you have pyarrow 6.0.1 which is incompatible.\r\n",
      "tfx-bsl 1.5.0 requires tensorflow!=2.0.*,!=2.1.*,!=2.2.*,!=2.3.*,!=2.4.*,!=2.5.*,!=2.6.*,<3,>=1.15.2, but you have tensorflow 2.0.4 which is incompatible.\r\n",
      "tensorflow-transform 1.5.0 requires absl-py<0.13,>=0.9, but you have absl-py 1.0.0 which is incompatible.\r\n",
      "tensorflow-transform 1.5.0 requires pyarrow<6,>=1, but you have pyarrow 6.0.1 which is incompatible.\r\n",
      "tensorflow-transform 1.5.0 requires tensorflow!=2.0.*,!=2.1.*,!=2.2.*,!=2.3.*,!=2.4.*,!=2.5.*,!=2.6.*,<2.8,>=1.15.2, but you have tensorflow 2.0.4 which is incompatible.\r\n",
      "tensorflow-serving-api 2.7.0 requires tensorflow<3,>=2.7.0, but you have tensorflow 2.0.4 which is incompatible.\r\n",
      "tensorflow-probability 0.14.1 requires gast>=0.3.2, but you have gast 0.2.2 which is incompatible.\r\n",
      "tensorflow-metadata 1.5.0 requires absl-py<0.13,>=0.9, but you have absl-py 1.0.0 which is incompatible.\r\n",
      "tensorflow-io 0.21.0 requires tensorflow<2.7.0,>=2.6.0, but you have tensorflow 2.0.4 which is incompatible.\r\n",
      "tensorflow-cloud 0.1.14 requires tensorboard>=2.3.0, but you have tensorboard 2.0.2 which is incompatible.\r\n",
      "tables 3.7.0 requires numpy>=1.19.0, but you have numpy 1.18.5 which is incompatible.\r\n",
      "spacy 3.2.1 requires typing-extensions<4.0.0.0,>=3.7.4; python_version < \"3.8\", but you have typing-extensions 4.1.1 which is incompatible.\r\n",
      "pytorch-lightning 1.5.9 requires setuptools==59.5.0, but you have setuptools 61.2.0 which is incompatible.\r\n",
      "pytorch-lightning 1.5.9 requires tensorboard>=2.2.0, but you have tensorboard 2.0.2 which is incompatible.\r\n",
      "pynndescent 0.5.6 requires numba>=0.51.2, but you have numba 0.50.1 which is incompatible.\r\n",
      "plotnine 0.8.0 requires numpy>=1.19.0, but you have numpy 1.18.5 which is incompatible.\r\n",
      "pdpbox 0.2.1 requires matplotlib==3.1.1, but you have matplotlib 3.5.1 which is incompatible.\r\n",
      "osmnx 1.1.1 requires numpy>=1.19, but you have numpy 1.18.5 which is incompatible.\r\n",
      "librosa 0.9.0 requires resampy>=0.2.2, but you have resampy 0.2.1 which is incompatible.\r\n",
      "jaxlib 0.1.76 requires numpy>=1.19, but you have numpy 1.18.5 which is incompatible.\r\n",
      "jax 0.2.28 requires numpy>=1.19, but you have numpy 1.18.5 which is incompatible.\r\n",
      "imbalanced-learn 0.9.0 requires scikit-learn>=1.0.1, but you have scikit-learn 0.23.2 which is incompatible.\r\n",
      "gcsfs 2021.11.1 requires fsspec==2021.11.1, but you have fsspec 2022.1.0 which is incompatible.\r\n",
      "flake8 4.0.1 requires importlib-metadata<4.3; python_version < \"3.8\", but you have importlib-metadata 4.11.3 which is incompatible.\r\n",
      "featuretools 1.4.1 requires numpy>=1.21.0, but you have numpy 1.18.5 which is incompatible.\r\n",
      "easyocr 1.4.1 requires Pillow<8.3.0, but you have pillow 9.0.1 which is incompatible.\r\n",
      "datashader 0.13.0 requires numba>=0.51, but you have numba 0.50.1 which is incompatible.\r\n",
      "cloud-tpu-client 0.10 requires google-api-python-client==1.8.0, but you have google-api-python-client 1.12.10 which is incompatible.\r\n",
      "arviz 0.11.4 requires typing-extensions<4,>=3.7.4.3, but you have typing-extensions 4.1.1 which is incompatible.\r\n",
      "apache-beam 2.34.0 requires dill<0.3.2,>=0.3.1.1, but you have dill 0.3.4 which is incompatible.\r\n",
      "apache-beam 2.34.0 requires httplib2<0.20.0,>=0.8, but you have httplib2 0.20.2 which is incompatible.\r\n",
      "apache-beam 2.34.0 requires pyarrow<6.0.0,>=0.15.1, but you have pyarrow 6.0.1 which is incompatible.\r\n",
      "apache-beam 2.34.0 requires typing-extensions<4,>=3.7.0, but you have typing-extensions 4.1.1 which is incompatible.\r\n",
      "aiobotocore 2.1.0 requires botocore<1.23.25,>=1.23.24, but you have botocore 1.23.51 which is incompatible.\u001b[0m\r\n",
      "Successfully installed absl-py-1.0.0 astor-0.8.1 cachetools-4.2.4 certifi-2021.10.8 charset-normalizer-2.0.12 coremltools-3.3 decorator-5.1.1 gast-0.4.0 google-auth-1.35.0 google-auth-oauthlib-0.4.6 google-pasta-0.2.0 grpcio-1.44.0 h5py-3.1.0 idna-3.3 importlib-metadata-4.11.3 keras-applications-1.0.8 keras-preprocessing-1.1.2 llvmlite-0.37.0 markdown-3.3.6 numba-0.54.1 numpy-1.20.3 oauthlib-3.2.0 opt-einsum-3.3.0 pandas-1.3.5 pillow-9.0.1 prettytable-2.4.0 protobuf-3.19.4 pyasn1-0.4.8 pyasn1-modules-0.2.8 python-dateutil-2.8.2 pytz-2022.1 requests-2.27.1 requests-oauthlib-1.3.1 resampy-0.2.2 rsa-4.8 scipy-1.7.3 setuptools-61.2.0 six-1.16.0 tensorboard-2.6.0 tensorflow-2.6.2 tensorflow-estimator-2.6.0 termcolor-1.1.0 turicreate-6.4.1 typing-extensions-4.1.1 urllib3-1.26.9 werkzeug-2.1.0 wheel-0.37.1 wrapt-1.14.0 zipp-3.7.0\r\n",
      "\u001b[33mWARNING: Running pip as the 'root' user can result in broken permissions and conflicting behaviour with the system package manager. It is recommended to use a virtual environment instead: https://pip.pypa.io/warnings/venv\u001b[0m\r\n"
     ]
    }
   ],
   "source": [
    "!pip install --ignore-installed turicreate"
   ]
  },
  {
   "cell_type": "code",
   "execution_count": 2,
   "id": "40372c5a",
   "metadata": {
    "execution": {
     "iopub.execute_input": "2022-03-30T17:21:12.857411Z",
     "iopub.status.busy": "2022-03-30T17:21:12.856437Z",
     "iopub.status.idle": "2022-03-30T17:21:37.612159Z",
     "shell.execute_reply": "2022-03-30T17:21:37.611695Z",
     "shell.execute_reply.started": "2022-03-30T16:57:29.250192Z"
    },
    "papermill": {
     "duration": 24.946863,
     "end_time": "2022-03-30T17:21:37.612334",
     "exception": false,
     "start_time": "2022-03-30T17:21:12.665471",
     "status": "completed"
    },
    "tags": []
   },
   "outputs": [
    {
     "data": {
      "text/html": [
       "<pre>Finished parsing file /kaggle/input/anime-recommendation-database-2020/rating_complete.csv</pre>"
      ],
      "text/plain": [
       "Finished parsing file /kaggle/input/anime-recommendation-database-2020/rating_complete.csv"
      ]
     },
     "metadata": {},
     "output_type": "display_data"
    },
    {
     "data": {
      "text/html": [
       "<pre>Parsing completed. Parsed 100 lines in 2.35121 secs.</pre>"
      ],
      "text/plain": [
       "Parsing completed. Parsed 100 lines in 2.35121 secs."
      ]
     },
     "metadata": {},
     "output_type": "display_data"
    },
    {
     "name": "stdout",
     "output_type": "stream",
     "text": [
      "------------------------------------------------------\n",
      "Inferred types from first 100 line(s) of file as \n",
      "column_type_hints=[int,int,int]\n",
      "If parsing fails due to incorrect types, you can correct\n",
      "the inferred type list above and pass it to read_csv in\n",
      "the column_type_hints argument\n",
      "------------------------------------------------------\n"
     ]
    },
    {
     "data": {
      "text/html": [
       "<pre>Read 4012662 lines. Lines per second: 1.19572e+06</pre>"
      ],
      "text/plain": [
       "Read 4012662 lines. Lines per second: 1.19572e+06"
      ]
     },
     "metadata": {},
     "output_type": "display_data"
    },
    {
     "data": {
      "text/html": [
       "<pre>Read 19317738 lines. Lines per second: 2.20115e+06</pre>"
      ],
      "text/plain": [
       "Read 19317738 lines. Lines per second: 2.20115e+06"
      ]
     },
     "metadata": {},
     "output_type": "display_data"
    },
    {
     "data": {
      "text/html": [
       "<pre>Read 33776575 lines. Lines per second: 2.43143e+06</pre>"
      ],
      "text/plain": [
       "Read 33776575 lines. Lines per second: 2.43143e+06"
      ]
     },
     "metadata": {},
     "output_type": "display_data"
    },
    {
     "data": {
      "text/html": [
       "<pre>Read 48235452 lines. Lines per second: 2.53313e+06</pre>"
      ],
      "text/plain": [
       "Read 48235452 lines. Lines per second: 2.53313e+06"
      ]
     },
     "metadata": {},
     "output_type": "display_data"
    },
    {
     "data": {
      "text/html": [
       "<pre>Finished parsing file /kaggle/input/anime-recommendation-database-2020/rating_complete.csv</pre>"
      ],
      "text/plain": [
       "Finished parsing file /kaggle/input/anime-recommendation-database-2020/rating_complete.csv"
      ]
     },
     "metadata": {},
     "output_type": "display_data"
    },
    {
     "data": {
      "text/html": [
       "<pre>Parsing completed. Parsed 57633278 lines in 21.2664 secs.</pre>"
      ],
      "text/plain": [
       "Parsing completed. Parsed 57633278 lines in 21.2664 secs."
      ]
     },
     "metadata": {},
     "output_type": "display_data"
    },
    {
     "name": "stdout",
     "output_type": "stream",
     "text": [
      "+---------+----------+--------+\n",
      "| user_id | anime_id | rating |\n",
      "+---------+----------+--------+\n",
      "|    0    |   430    |   9    |\n",
      "|    0    |   1004   |   5    |\n",
      "|    0    |   3010   |   7    |\n",
      "|    0    |   570    |   7    |\n",
      "|    0    |   2762   |   9    |\n",
      "|    0    |   431    |   8    |\n",
      "|    0    |   578    |   10   |\n",
      "|    0    |   433    |   6    |\n",
      "|    0    |   1571   |   10   |\n",
      "|    0    |   121    |   9    |\n",
      "+---------+----------+--------+\n",
      "[57633278 rows x 3 columns]\n",
      "\n"
     ]
    }
   ],
   "source": [
    "import turicreate as tc\n",
    "\n",
    "actions = tc.SFrame.read_csv('../input/anime-recommendation-database-2020/rating_complete.csv')\n",
    "actions.print_rows()"
   ]
  },
  {
   "cell_type": "code",
   "execution_count": 3,
   "id": "d4603509",
   "metadata": {
    "execution": {
     "iopub.execute_input": "2022-03-30T17:21:38.003283Z",
     "iopub.status.busy": "2022-03-30T17:21:37.998354Z",
     "iopub.status.idle": "2022-03-30T17:21:46.027278Z",
     "shell.execute_reply": "2022-03-30T17:21:46.026770Z",
     "shell.execute_reply.started": "2022-03-30T16:58:02.200796Z"
    },
    "papermill": {
     "duration": 8.224014,
     "end_time": "2022-03-30T17:21:46.027427",
     "exception": false,
     "start_time": "2022-03-30T17:21:37.803413",
     "status": "completed"
    },
    "tags": []
   },
   "outputs": [
    {
     "data": {
      "text/html": [
       "<pre>Downloading https://raw.githubusercontent.com/yuseisui/myanimelist/main/myanimelist.tsv to /var/tmp/turicreate-root/20/b5cbfd3a-3271-4e25-bd5d-f17561a22cc1.tsv</pre>"
      ],
      "text/plain": [
       "Downloading https://raw.githubusercontent.com/yuseisui/myanimelist/main/myanimelist.tsv to /var/tmp/turicreate-root/20/b5cbfd3a-3271-4e25-bd5d-f17561a22cc1.tsv"
      ]
     },
     "metadata": {},
     "output_type": "display_data"
    },
    {
     "data": {
      "text/html": [
       "<pre>Finished parsing file https://raw.githubusercontent.com/yuseisui/myanimelist/main/myanimelist.tsv</pre>"
      ],
      "text/plain": [
       "Finished parsing file https://raw.githubusercontent.com/yuseisui/myanimelist/main/myanimelist.tsv"
      ]
     },
     "metadata": {},
     "output_type": "display_data"
    },
    {
     "data": {
      "text/html": [
       "<pre>Parsing completed. Parsed 79 lines in 0.083971 secs.</pre>"
      ],
      "text/plain": [
       "Parsing completed. Parsed 79 lines in 0.083971 secs."
      ]
     },
     "metadata": {},
     "output_type": "display_data"
    },
    {
     "name": "stdout",
     "output_type": "stream",
     "text": [
      "------------------------------------------------------\n",
      "Inferred types from first 100 line(s) of file as \n",
      "column_type_hints=[int,int]\n",
      "If parsing fails due to incorrect types, you can correct\n",
      "the inferred type list above and pass it to read_csv in\n",
      "the column_type_hints argument\n",
      "------------------------------------------------------\n"
     ]
    },
    {
     "data": {
      "text/html": [
       "<pre>Finished parsing file https://raw.githubusercontent.com/yuseisui/myanimelist/main/myanimelist.tsv</pre>"
      ],
      "text/plain": [
       "Finished parsing file https://raw.githubusercontent.com/yuseisui/myanimelist/main/myanimelist.tsv"
      ]
     },
     "metadata": {},
     "output_type": "display_data"
    },
    {
     "data": {
      "text/html": [
       "<pre>Parsing completed. Parsed 79 lines in 0.042116 secs.</pre>"
      ],
      "text/plain": [
       "Parsing completed. Parsed 79 lines in 0.042116 secs."
      ]
     },
     "metadata": {},
     "output_type": "display_data"
    },
    {
     "name": "stdout",
     "output_type": "stream",
     "text": [
      "+----------+--------+---------+\n",
      "| anime_id | rating | user_id |\n",
      "+----------+--------+---------+\n",
      "|  41457   |   5    |    -1   |\n",
      "|  27911   |   6    |    -1   |\n",
      "|  11111   |   7    |    -1   |\n",
      "|   2251   |   9    |    -1   |\n",
      "|  20787   |   8    |    -1   |\n",
      "|  31043   |   7    |    -1   |\n",
      "|   2167   |   5    |    -1   |\n",
      "|   4181   |   5    |    -1   |\n",
      "|   1575   |   9    |    -1   |\n",
      "|   2904   |   9    |    -1   |\n",
      "+----------+--------+---------+\n",
      "[79 rows x 3 columns]\n",
      "\n"
     ]
    }
   ],
   "source": [
    "my_ratings = tc.SFrame.read_csv('https://raw.githubusercontent.com/yuseisui/myanimelist/main/myanimelist.tsv',\n",
    "                                delimiter='\\t',\n",
    "                                usecols=['anime_id', 'rating'])\n",
    "my_id = -1\n",
    "my_ids = tc.SArray.from_const(my_id, my_ratings.num_rows())\n",
    "my_ratings.add_column(my_ids, 'user_id', inplace=True)\n",
    "my_ratings.print_rows()"
   ]
  },
  {
   "cell_type": "code",
   "execution_count": 4,
   "id": "9922fb85",
   "metadata": {
    "execution": {
     "iopub.execute_input": "2022-03-30T17:21:46.425296Z",
     "iopub.status.busy": "2022-03-30T17:21:46.423366Z",
     "iopub.status.idle": "2022-03-30T17:21:47.050059Z",
     "shell.execute_reply": "2022-03-30T17:21:47.048402Z",
     "shell.execute_reply.started": "2022-03-30T16:58:02.523659Z"
    },
    "papermill": {
     "duration": 0.824951,
     "end_time": "2022-03-30T17:21:47.050272",
     "exception": false,
     "start_time": "2022-03-30T17:21:46.225321",
     "status": "completed"
    },
    "scrolled": true,
    "tags": []
   },
   "outputs": [
    {
     "data": {
      "text/html": [
       "<pre>Finished parsing file /kaggle/input/anime-recommendation-database-2020/anime.csv</pre>"
      ],
      "text/plain": [
       "Finished parsing file /kaggle/input/anime-recommendation-database-2020/anime.csv"
      ]
     },
     "metadata": {},
     "output_type": "display_data"
    },
    {
     "data": {
      "text/html": [
       "<pre>Parsing completed. Parsed 100 lines in 0.249695 secs.</pre>"
      ],
      "text/plain": [
       "Parsing completed. Parsed 100 lines in 0.249695 secs."
      ]
     },
     "metadata": {},
     "output_type": "display_data"
    },
    {
     "name": "stdout",
     "output_type": "stream",
     "text": [
      "------------------------------------------------------\n",
      "Inferred types from first 100 line(s) of file as \n",
      "column_type_hints=[int,str,float,str,str,str,str,int,str,str,str,str,str,str,str,str,float,int,int,int,int,int,int,int,int,float,float,float,float,float,float,float,float,float,float]\n",
      "If parsing fails due to incorrect types, you can correct\n",
      "the inferred type list above and pass it to read_csv in\n",
      "the column_type_hints argument\n",
      "------------------------------------------------------\n"
     ]
    },
    {
     "data": {
      "text/html": [
       "<pre>Finished parsing file /kaggle/input/anime-recommendation-database-2020/anime.csv</pre>"
      ],
      "text/plain": [
       "Finished parsing file /kaggle/input/anime-recommendation-database-2020/anime.csv"
      ]
     },
     "metadata": {},
     "output_type": "display_data"
    },
    {
     "data": {
      "text/html": [
       "<pre>Parsing completed. Parsed 17562 lines in 0.188375 secs.</pre>"
      ],
      "text/plain": [
       "Parsing completed. Parsed 17562 lines in 0.188375 secs."
      ]
     },
     "metadata": {},
     "output_type": "display_data"
    },
    {
     "name": "stdout",
     "output_type": "stream",
     "text": [
      "+--------+-------------------------------+-------+\n",
      "| MAL_ID |              Name             | Score |\n",
      "+--------+-------------------------------+-------+\n",
      "|   1    |          Cowboy Bebop         |  8.78 |\n",
      "|   5    | Cowboy Bebop: Tengoku no T... |  8.39 |\n",
      "|   6    |             Trigun            |  8.24 |\n",
      "|   7    |       Witch Hunter Robin      |  7.27 |\n",
      "|   8    |         Bouken Ou Beet        |  6.98 |\n",
      "|   15   |          Eyeshield 21         |  7.95 |\n",
      "|   16   |      Hachimitsu to Clover     |  8.06 |\n",
      "|   17   |   Hungry Heart: Wild Striker  |  7.59 |\n",
      "|   18   |     Initial D Fourth Stage    |  8.15 |\n",
      "|   19   |            Monster            |  8.76 |\n",
      "+--------+-------------------------------+-------+\n",
      "+-------------------------------+------------------------+\n",
      "|             Genres            |      English name      |\n",
      "+-------------------------------+------------------------+\n",
      "| Action, Adventure, Comedy,... |      Cowboy Bebop      |\n",
      "| Action, Drama, Mystery, Sc... | Cowboy Bebop:The Movie |\n",
      "| Action, Sci-Fi, Adventure,... |         Trigun         |\n",
      "| Action, Mystery, Police, S... |   Witch Hunter Robin   |\n",
      "| Adventure, Fantasy, Shoune... | Beet the Vandel Buster |\n",
      "| Action, Sports, Comedy, Sh... |          None          |\n",
      "| Comedy, Drama, Josei, Roma... |    Honey and Clover    |\n",
      "| Slice of Life, Comedy, Spo... |          None          |\n",
      "| Action, Cars, Sports, Dram... |          None          |\n",
      "| Drama, Horror, Mystery, Po... |        Monster         |\n",
      "+-------------------------------+------------------------+\n",
      "+-------------------------------------+-------+----------+\n",
      "|            Japanese name            |  Type | Episodes |\n",
      "+-------------------------------------+-------+----------+\n",
      "|          カウボーイビバップ         |   TV  |    26    |\n",
      "|     カウボーイビバップ 天国の扉     | Movie |    1     |\n",
      "|              トライガン             |   TV  |    26    |\n",
      "| Witch Hunter ROBIN (ウイッチハン... |   TV  |    26    |\n",
      "|             冒険王ビィト            |   TV  |    52    |\n",
      "|            アイシールド21           |   TV  |   145    |\n",
      "|         ハチミツとクローバー        |   TV  |    24    |\n",
      "|    ハングリーハート Wild Striker    |   TV  |    52    |\n",
      "|  頭文字〈イニシャル〉D FOURTH STAGE |   TV  |    24    |\n",
      "|              モンスター             |   TV  |    74    |\n",
      "+-------------------------------------+-------+----------+\n",
      "+------------------------------+-------------+-------------------------------+\n",
      "|            Aired             |  Premiered  |           Producers           |\n",
      "+------------------------------+-------------+-------------------------------+\n",
      "| Apr 3, 1998 to Apr 24, 1999  | Spring 1998 |         Bandai Visual         |\n",
      "|         Sep 1, 2001          |     None    |     Sunrise, Bandai Visual    |\n",
      "| Apr 1, 1998 to Sep 30, 1998  | Spring 1998 |      Victor Entertainment     |\n",
      "| Jul 2, 2002 to Dec 24, 2002  | Summer 2002 | TV Tokyo, Bandai Visual, D... |\n",
      "| Sep 30, 2004 to Sep 29, 2005 |  Fall 2004  |        TV Tokyo, Dentsu       |\n",
      "| Apr 6, 2005 to Mar 19, 2008  | Spring 2005 | TV Tokyo, Nihon Ad Systems... |\n",
      "| Apr 15, 2005 to Sep 27, 2005 | Spring 2005 |    Genco, Fuji TV, Shueisha   |\n",
      "| Sep 11, 2002 to Sep 10, 2003 |  Fall 2002  |              None             |\n",
      "| Apr 17, 2004 to Feb 18, 2006 | Spring 2004 |    OB Planning, Studio Jack   |\n",
      "| Apr 7, 2004 to Sep 28, 2005  | Spring 2004 | VAP, Shogakukan-Shueisha P... |\n",
      "+------------------------------+-------------+-------------------------------+\n",
      "+-------------------------------+------------------+----------+-----------------+\n",
      "|           Licensors           |     Studios      |  Source  |     Duration    |\n",
      "+-------------------------------+------------------+----------+-----------------+\n",
      "| Funimation, Bandai Enterta... |     Sunrise      | Original | 24 min. per ep. |\n",
      "|  Sony Pictures Entertainment  |      Bones       | Original |  1 hr. 55 min.  |\n",
      "| Funimation, Geneon Enterta... |     Madhouse     |  Manga   | 24 min. per ep. |\n",
      "| Funimation, Bandai Enterta... |     Sunrise      | Original | 25 min. per ep. |\n",
      "|              None             |  Toei Animation  |  Manga   | 23 min. per ep. |\n",
      "|  VIZ Media, Sentai Filmworks  |      Gallop      |  Manga   | 23 min. per ep. |\n",
      "|   VIZ Media, Discotek Media   |    J.C.Staff     |  Manga   | 23 min. per ep. |\n",
      "|              None             | Nippon Animation |  Manga   | 23 min. per ep. |\n",
      "|           Funimation          |     A.C.G.T.     |  Manga   | 27 min. per ep. |\n",
      "|           VIZ Media           |     Madhouse     |  Manga   | 24 min. per ep. |\n",
      "+-------------------------------+------------------+----------+-----------------+\n",
      "+--------------------------------+--------+------------+---------+-----------+\n",
      "|             Rating             | Ranked | Popularity | Members | Favorites |\n",
      "+--------------------------------+--------+------------+---------+-----------+\n",
      "| R - 17+ (violence & profanity) |  28.0  |     39     | 1251960 |   61971   |\n",
      "| R - 17+ (violence & profanity) | 159.0  |    518     |  273145 |    1174   |\n",
      "|   PG-13 - Teens 13 or older    | 266.0  |    201     |  558913 |   12944   |\n",
      "|   PG-13 - Teens 13 or older    | 2481.0 |    1467    |  94683  |    587    |\n",
      "|         PG - Children          | 3710.0 |    4369    |  13224  |     18    |\n",
      "|   PG-13 - Teens 13 or older    | 604.0  |    1003    |  148259 |    2066   |\n",
      "|   PG-13 - Teens 13 or older    | 468.0  |    687     |  214499 |    4101   |\n",
      "|   PG-13 - Teens 13 or older    | 1317.0 |    3612    |  20470  |    231    |\n",
      "|   PG-13 - Teens 13 or older    | 360.0  |    1233    |  117929 |    979    |\n",
      "|        R+ - Mild Nudity        |  30.0  |    169     |  614100 |   29436   |\n",
      "+--------------------------------+--------+------------+---------+-----------+\n",
      "+----------+-----------+---------+---------+---------------+----------+----------+\n",
      "| Watching | Completed | On-Hold | Dropped | Plan to Watch | Score-10 | Score-9  |\n",
      "+----------+-----------+---------+---------+---------------+----------+----------+\n",
      "|  105808  |   718161  |  71513  |  26678  |     329800    | 229170.0 | 182126.0 |\n",
      "|   4143   |   208333  |   1935  |   770   |     57964     | 30043.0  | 49201.0  |\n",
      "|  29113   |   343492  |  25465  |  13925  |     146918    | 50229.0  | 75651.0  |\n",
      "|   4300   |   46165   |   5121  |   5378  |     33719     |  2182.0  |  4806.0  |\n",
      "|   642    |    7314   |   766   |   1108  |      3394     |  312.0   |  529.0   |\n",
      "|  13907   |   78349   |  14228  |  11573  |     30202     |  9226.0  | 14904.0  |\n",
      "|  11909   |   81145   |  11901  |  11026  |     98518     | 11829.0  | 16309.0  |\n",
      "|   817    |   13778   |   828   |   1168  |      3879     |  1123.0  |  1777.0  |\n",
      "|   6082   |   90967   |   3053  |   1356  |     16471     | 10948.0  | 15820.0  |\n",
      "|  64648   |   214491  |  47488  |  23008  |     264465    | 77350.0  | 60652.0  |\n",
      "+----------+-----------+---------+---------+---------------+----------+----------+\n",
      "+----------+---------+---------+---------+---------+---------+---------+---------+\n",
      "| Score-8  | Score-7 | Score-6 | Score-5 | Score-4 | Score-3 | Score-2 | Score-1 |\n",
      "+----------+---------+---------+---------+---------+---------+---------+---------+\n",
      "| 131625.0 | 62330.0 | 20688.0 |  8904.0 |  3184.0 |  1357.0 |  741.0  |  1580.0 |\n",
      "| 49505.0  | 22632.0 |  5805.0 |  1877.0 |  577.0  |  221.0  |  109.0  |  379.0  |\n",
      "| 86142.0  | 49432.0 | 15376.0 |  5838.0 |  1965.0 |  664.0  |  316.0  |  533.0  |\n",
      "| 10128.0  | 11618.0 |  5709.0 |  2920.0 |  1083.0 |  353.0  |  164.0  |  131.0  |\n",
      "|  1242.0  |  1713.0 |  1068.0 |  634.0  |  265.0  |   83.0  |   50.0  |   27.0  |\n",
      "| 22811.0  | 16734.0 |  6206.0 |  2621.0 |  795.0  |  336.0  |  140.0  |  151.0  |\n",
      "| 20008.0  | 13062.0 |  5574.0 |  3148.0 |  1339.0 |  484.0  |  278.0  |  321.0  |\n",
      "|  3102.0  |  3075.0 |  1286.0 |  602.0  |  218.0  |   88.0  |   31.0  |   32.0  |\n",
      "| 22379.0  | 12912.0 |  3874.0 |  1236.0 |  369.0  |   97.0  |   48.0  |  259.0  |\n",
      "| 43459.0  | 22045.0 |  8861.0 |  4381.0 |  2086.0 |  882.0  |  593.0  |  1177.0 |\n",
      "+----------+---------+---------+---------+---------+---------+---------+---------+\n",
      "[17562 rows x 35 columns]\n",
      "\n"
     ]
    }
   ],
   "source": [
    "items = tc.SFrame.read_csv('../input/anime-recommendation-database-2020/anime.csv',\n",
    "                           na_values=['Unknown'])\n",
    "items.print_rows()"
   ]
  },
  {
   "cell_type": "code",
   "execution_count": 5,
   "id": "2e4d1963",
   "metadata": {
    "execution": {
     "iopub.execute_input": "2022-03-30T17:21:47.455782Z",
     "iopub.status.busy": "2022-03-30T17:21:47.455057Z",
     "iopub.status.idle": "2022-03-30T17:25:34.352124Z",
     "shell.execute_reply": "2022-03-30T17:25:34.353296Z",
     "shell.execute_reply.started": "2022-03-30T16:58:03.125204Z"
    },
    "papermill": {
     "duration": 227.102178,
     "end_time": "2022-03-30T17:25:34.353754",
     "exception": false,
     "start_time": "2022-03-30T17:21:47.251576",
     "status": "completed"
    },
    "tags": []
   },
   "outputs": [
    {
     "name": "stdout",
     "output_type": "stream",
     "text": [
      "train\t46106600\n",
      "test\t11526678\n"
     ]
    },
    {
     "data": {
      "text/html": [
       "<pre>Preparing data set.</pre>"
      ],
      "text/plain": [
       "Preparing data set."
      ]
     },
     "metadata": {},
     "output_type": "display_data"
    },
    {
     "data": {
      "text/html": [
       "<pre>    Data has 46106600 observations with 308768 users and 16852 items.</pre>"
      ],
      "text/plain": [
       "    Data has 46106600 observations with 308768 users and 16852 items."
      ]
     },
     "metadata": {},
     "output_type": "display_data"
    },
    {
     "data": {
      "text/html": [
       "<pre>    Data prepared in: 32.2049s</pre>"
      ],
      "text/plain": [
       "    Data prepared in: 32.2049s"
      ]
     },
     "metadata": {},
     "output_type": "display_data"
    },
    {
     "data": {
      "text/html": [
       "<pre>Training model from provided data.</pre>"
      ],
      "text/plain": [
       "Training model from provided data."
      ]
     },
     "metadata": {},
     "output_type": "display_data"
    },
    {
     "data": {
      "text/html": [
       "<pre>Gathering per-item and per-user statistics.</pre>"
      ],
      "text/plain": [
       "Gathering per-item and per-user statistics."
      ]
     },
     "metadata": {},
     "output_type": "display_data"
    },
    {
     "data": {
      "text/html": [
       "<pre>+--------------------------------+------------+</pre>"
      ],
      "text/plain": [
       "+--------------------------------+------------+"
      ]
     },
     "metadata": {},
     "output_type": "display_data"
    },
    {
     "data": {
      "text/html": [
       "<pre>| Elapsed Time (Item Statistics) | % Complete |</pre>"
      ],
      "text/plain": [
       "| Elapsed Time (Item Statistics) | % Complete |"
      ]
     },
     "metadata": {},
     "output_type": "display_data"
    },
    {
     "data": {
      "text/html": [
       "<pre>+--------------------------------+------------+</pre>"
      ],
      "text/plain": [
       "+--------------------------------+------------+"
      ]
     },
     "metadata": {},
     "output_type": "display_data"
    },
    {
     "data": {
      "text/html": [
       "<pre>| 5.336ms                        | 0.25       |</pre>"
      ],
      "text/plain": [
       "| 5.336ms                        | 0.25       |"
      ]
     },
     "metadata": {},
     "output_type": "display_data"
    },
    {
     "data": {
      "text/html": [
       "<pre>| 1.04s                          | 100        |</pre>"
      ],
      "text/plain": [
       "| 1.04s                          | 100        |"
      ]
     },
     "metadata": {},
     "output_type": "display_data"
    },
    {
     "data": {
      "text/html": [
       "<pre>+--------------------------------+------------+</pre>"
      ],
      "text/plain": [
       "+--------------------------------+------------+"
      ]
     },
     "metadata": {},
     "output_type": "display_data"
    },
    {
     "data": {
      "text/html": [
       "<pre>Setting up lookup tables.</pre>"
      ],
      "text/plain": [
       "Setting up lookup tables."
      ]
     },
     "metadata": {},
     "output_type": "display_data"
    },
    {
     "data": {
      "text/html": [
       "<pre>Processing data in one pass using dense lookup tables.</pre>"
      ],
      "text/plain": [
       "Processing data in one pass using dense lookup tables."
      ]
     },
     "metadata": {},
     "output_type": "display_data"
    },
    {
     "data": {
      "text/html": [
       "<pre>+-------------------------------------+------------------+-----------------+</pre>"
      ],
      "text/plain": [
       "+-------------------------------------+------------------+-----------------+"
      ]
     },
     "metadata": {},
     "output_type": "display_data"
    },
    {
     "data": {
      "text/html": [
       "<pre>| Elapsed Time (Constructing Lookups) | Total % Complete | Items Processed |</pre>"
      ],
      "text/plain": [
       "| Elapsed Time (Constructing Lookups) | Total % Complete | Items Processed |"
      ]
     },
     "metadata": {},
     "output_type": "display_data"
    },
    {
     "data": {
      "text/html": [
       "<pre>+-------------------------------------+------------------+-----------------+</pre>"
      ],
      "text/plain": [
       "+-------------------------------------+------------------+-----------------+"
      ]
     },
     "metadata": {},
     "output_type": "display_data"
    },
    {
     "data": {
      "text/html": [
       "<pre>| 1.97s                               | 0                | 0               |</pre>"
      ],
      "text/plain": [
       "| 1.97s                               | 0                | 0               |"
      ]
     },
     "metadata": {},
     "output_type": "display_data"
    },
    {
     "data": {
      "text/html": [
       "<pre>| 4.97s                               | 1.75             | 298             |</pre>"
      ],
      "text/plain": [
       "| 4.97s                               | 1.75             | 298             |"
      ]
     },
     "metadata": {},
     "output_type": "display_data"
    },
    {
     "data": {
      "text/html": [
       "<pre>| 7.97s                               | 3.25             | 573             |</pre>"
      ],
      "text/plain": [
       "| 7.97s                               | 3.25             | 573             |"
      ]
     },
     "metadata": {},
     "output_type": "display_data"
    },
    {
     "data": {
      "text/html": [
       "<pre>| 10.97s                              | 5.25             | 885             |</pre>"
      ],
      "text/plain": [
       "| 10.97s                              | 5.25             | 885             |"
      ]
     },
     "metadata": {},
     "output_type": "display_data"
    },
    {
     "data": {
      "text/html": [
       "<pre>| 13.97s                              | 6.75             | 1173            |</pre>"
      ],
      "text/plain": [
       "| 13.97s                              | 6.75             | 1173            |"
      ]
     },
     "metadata": {},
     "output_type": "display_data"
    },
    {
     "data": {
      "text/html": [
       "<pre>| 16.97s                              | 8.5              | 1460            |</pre>"
      ],
      "text/plain": [
       "| 16.97s                              | 8.5              | 1460            |"
      ]
     },
     "metadata": {},
     "output_type": "display_data"
    },
    {
     "data": {
      "text/html": [
       "<pre>| 19.97s                              | 10.25            | 1755            |</pre>"
      ],
      "text/plain": [
       "| 19.97s                              | 10.25            | 1755            |"
      ]
     },
     "metadata": {},
     "output_type": "display_data"
    },
    {
     "data": {
      "text/html": [
       "<pre>| 22.97s                              | 12               | 2059            |</pre>"
      ],
      "text/plain": [
       "| 22.97s                              | 12               | 2059            |"
      ]
     },
     "metadata": {},
     "output_type": "display_data"
    },
    {
     "data": {
      "text/html": [
       "<pre>| 25.97s                              | 14               | 2378            |</pre>"
      ],
      "text/plain": [
       "| 25.97s                              | 14               | 2378            |"
      ]
     },
     "metadata": {},
     "output_type": "display_data"
    },
    {
     "data": {
      "text/html": [
       "<pre>| 28.97s                              | 16               | 2724            |</pre>"
      ],
      "text/plain": [
       "| 28.97s                              | 16               | 2724            |"
      ]
     },
     "metadata": {},
     "output_type": "display_data"
    },
    {
     "data": {
      "text/html": [
       "<pre>| 31.97s                              | 17.75            | 3007            |</pre>"
      ],
      "text/plain": [
       "| 31.97s                              | 17.75            | 3007            |"
      ]
     },
     "metadata": {},
     "output_type": "display_data"
    },
    {
     "data": {
      "text/html": [
       "<pre>| 34.97s                              | 19.25            | 3256            |</pre>"
      ],
      "text/plain": [
       "| 34.97s                              | 19.25            | 3256            |"
      ]
     },
     "metadata": {},
     "output_type": "display_data"
    },
    {
     "data": {
      "text/html": [
       "<pre>| 37.97s                              | 21               | 3562            |</pre>"
      ],
      "text/plain": [
       "| 37.97s                              | 21               | 3562            |"
      ]
     },
     "metadata": {},
     "output_type": "display_data"
    },
    {
     "data": {
      "text/html": [
       "<pre>| 40.97s                              | 23               | 3881            |</pre>"
      ],
      "text/plain": [
       "| 40.97s                              | 23               | 3881            |"
      ]
     },
     "metadata": {},
     "output_type": "display_data"
    },
    {
     "data": {
      "text/html": [
       "<pre>| 43.97s                              | 24.5             | 4151            |</pre>"
      ],
      "text/plain": [
       "| 43.97s                              | 24.5             | 4151            |"
      ]
     },
     "metadata": {},
     "output_type": "display_data"
    },
    {
     "data": {
      "text/html": [
       "<pre>| 46.97s                              | 26.25            | 4437            |</pre>"
      ],
      "text/plain": [
       "| 46.97s                              | 26.25            | 4437            |"
      ]
     },
     "metadata": {},
     "output_type": "display_data"
    },
    {
     "data": {
      "text/html": [
       "<pre>| 49.97s                              | 28               | 4723            |</pre>"
      ],
      "text/plain": [
       "| 49.97s                              | 28               | 4723            |"
      ]
     },
     "metadata": {},
     "output_type": "display_data"
    },
    {
     "data": {
      "text/html": [
       "<pre>| 52.97s                              | 29.75            | 5018            |</pre>"
      ],
      "text/plain": [
       "| 52.97s                              | 29.75            | 5018            |"
      ]
     },
     "metadata": {},
     "output_type": "display_data"
    },
    {
     "data": {
      "text/html": [
       "<pre>| 55.97s                              | 31.5             | 5327            |</pre>"
      ],
      "text/plain": [
       "| 55.97s                              | 31.5             | 5327            |"
      ]
     },
     "metadata": {},
     "output_type": "display_data"
    },
    {
     "data": {
      "text/html": [
       "<pre>| 58.98s                              | 33.25            | 5611            |</pre>"
      ],
      "text/plain": [
       "| 58.98s                              | 33.25            | 5611            |"
      ]
     },
     "metadata": {},
     "output_type": "display_data"
    },
    {
     "data": {
      "text/html": [
       "<pre>| 1m 1s                               | 34.75            | 5890            |</pre>"
      ],
      "text/plain": [
       "| 1m 1s                               | 34.75            | 5890            |"
      ]
     },
     "metadata": {},
     "output_type": "display_data"
    },
    {
     "data": {
      "text/html": [
       "<pre>| 1m 4s                               | 36.5             | 6176            |</pre>"
      ],
      "text/plain": [
       "| 1m 4s                               | 36.5             | 6176            |"
      ]
     },
     "metadata": {},
     "output_type": "display_data"
    },
    {
     "data": {
      "text/html": [
       "<pre>| 1m 7s                               | 38               | 6441            |</pre>"
      ],
      "text/plain": [
       "| 1m 7s                               | 38               | 6441            |"
      ]
     },
     "metadata": {},
     "output_type": "display_data"
    },
    {
     "data": {
      "text/html": [
       "<pre>| 1m 10s                              | 39.75            | 6739            |</pre>"
      ],
      "text/plain": [
       "| 1m 10s                              | 39.75            | 6739            |"
      ]
     },
     "metadata": {},
     "output_type": "display_data"
    },
    {
     "data": {
      "text/html": [
       "<pre>| 1m 13s                              | 41.75            | 7051            |</pre>"
      ],
      "text/plain": [
       "| 1m 13s                              | 41.75            | 7051            |"
      ]
     },
     "metadata": {},
     "output_type": "display_data"
    },
    {
     "data": {
      "text/html": [
       "<pre>| 1m 16s                              | 43.5             | 7356            |</pre>"
      ],
      "text/plain": [
       "| 1m 16s                              | 43.5             | 7356            |"
      ]
     },
     "metadata": {},
     "output_type": "display_data"
    },
    {
     "data": {
      "text/html": [
       "<pre>| 1m 19s                              | 45.25            | 7640            |</pre>"
      ],
      "text/plain": [
       "| 1m 19s                              | 45.25            | 7640            |"
      ]
     },
     "metadata": {},
     "output_type": "display_data"
    },
    {
     "data": {
      "text/html": [
       "<pre>| 1m 22s                              | 47               | 7929            |</pre>"
      ],
      "text/plain": [
       "| 1m 22s                              | 47               | 7929            |"
      ]
     },
     "metadata": {},
     "output_type": "display_data"
    },
    {
     "data": {
      "text/html": [
       "<pre>| 1m 25s                              | 48.5             | 8207            |</pre>"
      ],
      "text/plain": [
       "| 1m 25s                              | 48.5             | 8207            |"
      ]
     },
     "metadata": {},
     "output_type": "display_data"
    },
    {
     "data": {
      "text/html": [
       "<pre>| 1m 28s                              | 50.25            | 8497            |</pre>"
      ],
      "text/plain": [
       "| 1m 28s                              | 50.25            | 8497            |"
      ]
     },
     "metadata": {},
     "output_type": "display_data"
    },
    {
     "data": {
      "text/html": [
       "<pre>| 1m 31s                              | 52               | 8781            |</pre>"
      ],
      "text/plain": [
       "| 1m 31s                              | 52               | 8781            |"
      ]
     },
     "metadata": {},
     "output_type": "display_data"
    },
    {
     "data": {
      "text/html": [
       "<pre>| 1m 34s                              | 53.75            | 9063            |</pre>"
      ],
      "text/plain": [
       "| 1m 34s                              | 53.75            | 9063            |"
      ]
     },
     "metadata": {},
     "output_type": "display_data"
    },
    {
     "data": {
      "text/html": [
       "<pre>| 1m 37s                              | 55.5             | 9356            |</pre>"
      ],
      "text/plain": [
       "| 1m 37s                              | 55.5             | 9356            |"
      ]
     },
     "metadata": {},
     "output_type": "display_data"
    },
    {
     "data": {
      "text/html": [
       "<pre>| 1m 40s                              | 57               | 9620            |</pre>"
      ],
      "text/plain": [
       "| 1m 40s                              | 57               | 9620            |"
      ]
     },
     "metadata": {},
     "output_type": "display_data"
    },
    {
     "data": {
      "text/html": [
       "<pre>| 1m 43s                              | 58.75            | 9908            |</pre>"
      ],
      "text/plain": [
       "| 1m 43s                              | 58.75            | 9908            |"
      ]
     },
     "metadata": {},
     "output_type": "display_data"
    },
    {
     "data": {
      "text/html": [
       "<pre>| 1m 46s                              | 60.5             | 10197           |</pre>"
      ],
      "text/plain": [
       "| 1m 46s                              | 60.5             | 10197           |"
      ]
     },
     "metadata": {},
     "output_type": "display_data"
    },
    {
     "data": {
      "text/html": [
       "<pre>| 1m 49s                              | 62               | 10474           |</pre>"
      ],
      "text/plain": [
       "| 1m 49s                              | 62               | 10474           |"
      ]
     },
     "metadata": {},
     "output_type": "display_data"
    },
    {
     "data": {
      "text/html": [
       "<pre>| 1m 52s                              | 63.75            | 10748           |</pre>"
      ],
      "text/plain": [
       "| 1m 52s                              | 63.75            | 10748           |"
      ]
     },
     "metadata": {},
     "output_type": "display_data"
    },
    {
     "data": {
      "text/html": [
       "<pre>| 1m 55s                              | 65.5             | 11045           |</pre>"
      ],
      "text/plain": [
       "| 1m 55s                              | 65.5             | 11045           |"
      ]
     },
     "metadata": {},
     "output_type": "display_data"
    },
    {
     "data": {
      "text/html": [
       "<pre>| 1m 58s                              | 67               | 11331           |</pre>"
      ],
      "text/plain": [
       "| 1m 58s                              | 67               | 11331           |"
      ]
     },
     "metadata": {},
     "output_type": "display_data"
    },
    {
     "data": {
      "text/html": [
       "<pre>| 2m 1s                               | 68.75            | 11620           |</pre>"
      ],
      "text/plain": [
       "| 2m 1s                               | 68.75            | 11620           |"
      ]
     },
     "metadata": {},
     "output_type": "display_data"
    },
    {
     "data": {
      "text/html": [
       "<pre>| 2m 4s                               | 70.5             | 11902           |</pre>"
      ],
      "text/plain": [
       "| 2m 4s                               | 70.5             | 11902           |"
      ]
     },
     "metadata": {},
     "output_type": "display_data"
    },
    {
     "data": {
      "text/html": [
       "<pre>| 2m 7s                               | 72.25            | 12191           |</pre>"
      ],
      "text/plain": [
       "| 2m 7s                               | 72.25            | 12191           |"
      ]
     },
     "metadata": {},
     "output_type": "display_data"
    },
    {
     "data": {
      "text/html": [
       "<pre>| 2m 10s                              | 74               | 12499           |</pre>"
      ],
      "text/plain": [
       "| 2m 10s                              | 74               | 12499           |"
      ]
     },
     "metadata": {},
     "output_type": "display_data"
    },
    {
     "data": {
      "text/html": [
       "<pre>| 2m 13s                              | 75.75            | 12777           |</pre>"
      ],
      "text/plain": [
       "| 2m 13s                              | 75.75            | 12777           |"
      ]
     },
     "metadata": {},
     "output_type": "display_data"
    },
    {
     "data": {
      "text/html": [
       "<pre>| 2m 16s                              | 77.5             | 13091           |</pre>"
      ],
      "text/plain": [
       "| 2m 16s                              | 77.5             | 13091           |"
      ]
     },
     "metadata": {},
     "output_type": "display_data"
    },
    {
     "data": {
      "text/html": [
       "<pre>| 2m 19s                              | 79.25            | 13370           |</pre>"
      ],
      "text/plain": [
       "| 2m 19s                              | 79.25            | 13370           |"
      ]
     },
     "metadata": {},
     "output_type": "display_data"
    },
    {
     "data": {
      "text/html": [
       "<pre>| 2m 22s                              | 81               | 13657           |</pre>"
      ],
      "text/plain": [
       "| 2m 22s                              | 81               | 13657           |"
      ]
     },
     "metadata": {},
     "output_type": "display_data"
    },
    {
     "data": {
      "text/html": [
       "<pre>| 2m 25s                              | 83               | 13998           |</pre>"
      ],
      "text/plain": [
       "| 2m 25s                              | 83               | 13998           |"
      ]
     },
     "metadata": {},
     "output_type": "display_data"
    },
    {
     "data": {
      "text/html": [
       "<pre>| 2m 28s                              | 84.5             | 14278           |</pre>"
      ],
      "text/plain": [
       "| 2m 28s                              | 84.5             | 14278           |"
      ]
     },
     "metadata": {},
     "output_type": "display_data"
    },
    {
     "data": {
      "text/html": [
       "<pre>| 2m 31s                              | 86.25            | 14566           |</pre>"
      ],
      "text/plain": [
       "| 2m 31s                              | 86.25            | 14566           |"
      ]
     },
     "metadata": {},
     "output_type": "display_data"
    },
    {
     "data": {
      "text/html": [
       "<pre>| 2m 34s                              | 88               | 14856           |</pre>"
      ],
      "text/plain": [
       "| 2m 34s                              | 88               | 14856           |"
      ]
     },
     "metadata": {},
     "output_type": "display_data"
    },
    {
     "data": {
      "text/html": [
       "<pre>| 2m 37s                              | 89.75            | 15140           |</pre>"
      ],
      "text/plain": [
       "| 2m 37s                              | 89.75            | 15140           |"
      ]
     },
     "metadata": {},
     "output_type": "display_data"
    },
    {
     "data": {
      "text/html": [
       "<pre>| 2m 40s                              | 91.5             | 15422           |</pre>"
      ],
      "text/plain": [
       "| 2m 40s                              | 91.5             | 15422           |"
      ]
     },
     "metadata": {},
     "output_type": "display_data"
    },
    {
     "data": {
      "text/html": [
       "<pre>| 2m 43s                              | 93.25            | 15726           |</pre>"
      ],
      "text/plain": [
       "| 2m 43s                              | 93.25            | 15726           |"
      ]
     },
     "metadata": {},
     "output_type": "display_data"
    },
    {
     "data": {
      "text/html": [
       "<pre>| 2m 46s                              | 94.25            | 15914           |</pre>"
      ],
      "text/plain": [
       "| 2m 46s                              | 94.25            | 15914           |"
      ]
     },
     "metadata": {},
     "output_type": "display_data"
    },
    {
     "data": {
      "text/html": [
       "<pre>| 2m 49s                              | 96               | 16180           |</pre>"
      ],
      "text/plain": [
       "| 2m 49s                              | 96               | 16180           |"
      ]
     },
     "metadata": {},
     "output_type": "display_data"
    },
    {
     "data": {
      "text/html": [
       "<pre>| 2m 53s                              | 97.75            | 16481           |</pre>"
      ],
      "text/plain": [
       "| 2m 53s                              | 97.75            | 16481           |"
      ]
     },
     "metadata": {},
     "output_type": "display_data"
    },
    {
     "data": {
      "text/html": [
       "<pre>| 2m 55s                              | 99.5             | 16769           |</pre>"
      ],
      "text/plain": [
       "| 2m 55s                              | 99.5             | 16769           |"
      ]
     },
     "metadata": {},
     "output_type": "display_data"
    },
    {
     "data": {
      "text/html": [
       "<pre>| 2m 59s                              | 100              | 16852           |</pre>"
      ],
      "text/plain": [
       "| 2m 59s                              | 100              | 16852           |"
      ]
     },
     "metadata": {},
     "output_type": "display_data"
    },
    {
     "data": {
      "text/html": [
       "<pre>+-------------------------------------+------------------+-----------------+</pre>"
      ],
      "text/plain": [
       "+-------------------------------------+------------------+-----------------+"
      ]
     },
     "metadata": {},
     "output_type": "display_data"
    },
    {
     "data": {
      "text/html": [
       "<pre>Finalizing lookup tables.</pre>"
      ],
      "text/plain": [
       "Finalizing lookup tables."
      ]
     },
     "metadata": {},
     "output_type": "display_data"
    },
    {
     "data": {
      "text/html": [
       "<pre>Generating candidate set for working with new users.</pre>"
      ],
      "text/plain": [
       "Generating candidate set for working with new users."
      ]
     },
     "metadata": {},
     "output_type": "display_data"
    },
    {
     "data": {
      "text/html": [
       "<pre>Finished training in 181.937s</pre>"
      ],
      "text/plain": [
       "Finished training in 181.937s"
      ]
     },
     "metadata": {},
     "output_type": "display_data"
    },
    {
     "name": "stdout",
     "output_type": "stream",
     "text": [
      "+---------+--------------------------------+---------------------+------+\n",
      "| user_id |            anime_id            |        score        | rank |\n",
      "+---------+--------------------------------+---------------------+------+\n",
      "|    -1   | Kono Subarashii Sekai ni S...  |  1.1463816060295589 |  1   |\n",
      "|    -1   |       Shingeki no Kyojin       |  1.0822653031047387 |  2   |\n",
      "|    -1   |          Angel Beats!          |  1.0770685363419448 |  3   |\n",
      "|    -1   | Re:Zero kara Hajimeru Isek...  |  1.0623940236960785 |  4   |\n",
      "|    -1   | Boku no Hero Academia 2nd ...  |  1.0248214640194857 |  5   |\n",
      "|    -1   | Ano Hi Mita Hana no Namae ...  |  1.0211140392701836 |  6   |\n",
      "|    -1   |     Boku no Hero Academia      |  1.0139194749578644 |  7   |\n",
      "|    -1   |         One Punch Man          |  0.9949175783350498 |  8   |\n",
      "|    -1   |         Bakemonogatari         |  0.9092145516902586 |  9   |\n",
      "|    -1   |            Noragami            |  0.8989550622203683 |  10  |\n",
      "|    -1   |           Death Note           |  0.8718112820311438 |  11  |\n",
      "|    -1   | Kono Subarashii Sekai ni S...  |  0.8389426379264155 |  12  |\n",
      "|    -1   |  Shingeki no Kyojin Season 2   |  0.8385296645043772 |  13  |\n",
      "|    -1   |        No Game No Life         |  0.8290871110143541 |  14  |\n",
      "|    -1   |      Hataraku Maou-sama!       |  0.8228490043290054 |  15  |\n",
      "|    -1   |            Overlord            |  0.7601575881619996 |  16  |\n",
      "|    -1   |           Durarara!!           |   0.71519176643106  |  17  |\n",
      "|    -1   | Dungeon ni Deai wo Motomer...  |  0.695562438874305  |  18  |\n",
      "|    -1   |        Noragami Aragoto        |  0.6901744264590589 |  19  |\n",
      "|    -1   |           Charlotte            |  0.6831680521180358 |  20  |\n",
      "|    -1   |          Tokyo Ghoul           |  0.6781204674817338 |  21  |\n",
      "|    -1   | Kaguya-sama wa Kokurasetai...  |  0.6682007629660112 |  22  |\n",
      "|    -1   |          Mirai Nikki           |  0.6573843578749066 |  23  |\n",
      "|    -1   |         Mob Psycho 100         |  0.6561058654060846 |  24  |\n",
      "|    -1   |        Sword Art Online        |  0.6516599821138985 |  25  |\n",
      "|    -1   |       Shokugeki no Souma       |  0.6469927550871161 |  26  |\n",
      "|    -1   | Boku no Hero Academia 3rd ...  |  0.6432132132445709 |  27  |\n",
      "|    -1   | Chuunibyou demo Koi ga Shitai! |  0.6429887972300565 |  28  |\n",
      "|    -1   |       Nanatsu no Taizai        |  0.6426711497427542 |  29  |\n",
      "|    -1   |  Shingeki no Kyojin Season 3   |  0.6393824627127829 |  30  |\n",
      "|    -1   |   Kiseijuu: Sei no Kakuritsu   |  0.637709651566759  |  31  |\n",
      "|    -1   |   Suzumiya Haruhi no Yuuutsu   |  0.6362021482443507 |  32  |\n",
      "|    -1   |          Death Parade          |  0.620637024505229  |  33  |\n",
      "|    -1   |  Tate no Yuusha no Nariagari   |  0.5948293963565102 |  34  |\n",
      "|    -1   |         Nisemonogatari         |  0.5883484611028358 |  35  |\n",
      "|    -1   |     Byousoku 5 Centimeter      |  0.5878102651125268 |  36  |\n",
      "|    -1   |           Toradora!            |  0.5865467258646518 |  37  |\n",
      "|    -1   | Shingeki no Kyojin Season ...  |  0.5843131164961224 |  38  |\n",
      "|    -1   | Fate/stay night: Unlimited...  |  0.5774151796027075 |  39  |\n",
      "|    -1   |          Kill la Kill          |  0.571498415138148  |  40  |\n",
      "|    -1   |     Highschool of the Dead     |  0.5650873123844967 |  41  |\n",
      "|    -1   |       Zankyou no Terror        |  0.5644663278060623 |  42  |\n",
      "|    -1   |         Akame ga Kill!         |  0.5449517210827598 |  43  |\n",
      "|    -1   |       Mob Psycho 100 II        |  0.5399712112885487 |  44  |\n",
      "|    -1   | Sen to Chihiro no Kamikakushi  |  0.5349538990213901 |  45  |\n",
      "|    -1   |     Ookami to Koushinryou      |  0.5052619327472735 |  46  |\n",
      "|    -1   |     Toki wo Kakeru Shoujo      |  0.4991789550720891 |  47  |\n",
      "|    -1   |    Neon Genesis Evangelion     |  0.4982695255098464 |  48  |\n",
      "|    -1   | Tensei shitara Slime Datta Ken |  0.4800892653344553 |  49  |\n",
      "|    -1   |         Ao no Exorcist         | 0.47901472034333625 |  50  |\n",
      "+---------+--------------------------------+---------------------+------+\n",
      "[50 rows x 4 columns]\n",
      "\n"
     ]
    }
   ],
   "source": [
    "user_id = 'user_id'\n",
    "item_id = 'anime_id'\n",
    "target = 'rating'\n",
    "k = 50\n",
    "\n",
    "train, test = tc.recommender.util.random_split_by_user(actions, user_id, item_id, max_num_users=None)\n",
    "print(f'train\\t{train.num_rows()}')\n",
    "print(f'test\\t{test.num_rows()}')\n",
    "model = tc.item_similarity_recommender.create(train, user_id, item_id, target, similarity_type='cosine')\n",
    "results = model.recommend([my_id], k, new_observation_data=my_ratings)\n",
    "results[item_id] = results[item_id].apply(lambda item_id: items[items['MAL_ID'] == item_id]['Name'][0])\n",
    "results.print_rows(k)"
   ]
  },
  {
   "cell_type": "code",
   "execution_count": 6,
   "id": "fac43765",
   "metadata": {
    "execution": {
     "iopub.execute_input": "2022-03-30T17:25:34.858928Z",
     "iopub.status.busy": "2022-03-30T17:25:34.858183Z",
     "iopub.status.idle": "2022-03-30T17:28:24.783312Z",
     "shell.execute_reply": "2022-03-30T17:28:24.784066Z",
     "shell.execute_reply.started": "2022-03-30T17:02:16.897356Z"
    },
    "papermill": {
     "duration": 170.166228,
     "end_time": "2022-03-30T17:28:24.784340",
     "exception": false,
     "start_time": "2022-03-30T17:25:34.618112",
     "status": "completed"
    },
    "tags": []
   },
   "outputs": [
    {
     "name": "stdout",
     "output_type": "stream",
     "text": [
      "+---------+--------------------+-------+\n",
      "| user_id |        rmse        | count |\n",
      "+---------+--------------------+-------+\n",
      "|  251434 | 8.408334927829465  |   7   |\n",
      "|  21855  |  7.53749255841903  |   16  |\n",
      "|  233270 | 8.100512205078214  |   47  |\n",
      "|  88004  | 7.110746447384372  |   38  |\n",
      "|  79732  | 6.991486716944815  |   17  |\n",
      "|  63664  | 9.513148795220223  |   2   |\n",
      "|  333842 | 6.8730473516245905 |   7   |\n",
      "|  127950 |  8.8784207375795   |   10  |\n",
      "|   7899  | 7.736024327253065  |   35  |\n",
      "|  25263  | 7.635036198364354  |   13  |\n",
      "+---------+--------------------+-------+\n",
      "[295987 rows x 3 columns]\n",
      "\n",
      "+----------+--------------------+-------+\n",
      "| anime_id |        rmse        | count |\n",
      "+----------+--------------------+-------+\n",
      "|  21855   | 7.853859504236139  |  7067 |\n",
      "|  26319   | 7.327051599559581  |   3   |\n",
      "|   5288   | 6.5728479464225416 |   78  |\n",
      "|  21925   | 6.905870706830801  |  271  |\n",
      "|  30727   |  7.76187432227495  |  4172 |\n",
      "|   6769   | 5.546006799752532  |   96  |\n",
      "|  40111   | 7.733315032262764  |  124  |\n",
      "|  35140   | 2.9991687020598765 |   1   |\n",
      "|   5684   | 7.344378650202397  |  263  |\n",
      "|   2779   | 5.922887108023513  |   86  |\n",
      "+----------+--------------------+-------+\n",
      "[16360 rows x 3 columns]\n",
      "\n",
      "7.432992527146864\n"
     ]
    }
   ],
   "source": [
    "rmse = model.evaluate_rmse(test, target)\n",
    "rmse_by_user = rmse['rmse_by_user']\n",
    "rmse_by_user.print_rows()\n",
    "rmse_by_item = rmse['rmse_by_item']\n",
    "rmse_by_item.print_rows()\n",
    "rmse_overall = rmse['rmse_overall']\n",
    "print(rmse_overall)"
   ]
  }
 ],
 "metadata": {
  "kernelspec": {
   "display_name": "Python 3",
   "language": "python",
   "name": "python3"
  },
  "language_info": {
   "codemirror_mode": {
    "name": "ipython",
    "version": 3
   },
   "file_extension": ".py",
   "mimetype": "text/x-python",
   "name": "python",
   "nbconvert_exporter": "python",
   "pygments_lexer": "ipython3",
   "version": "3.7.12"
  },
  "papermill": {
   "default_parameters": {},
   "duration": 535.91521,
   "end_time": "2022-03-30T17:28:28.460941",
   "environment_variables": {},
   "exception": null,
   "input_path": "__notebook__.ipynb",
   "output_path": "__notebook__.ipynb",
   "parameters": {},
   "start_time": "2022-03-30T17:19:32.545731",
   "version": "2.3.3"
  }
 },
 "nbformat": 4,
 "nbformat_minor": 5
}
